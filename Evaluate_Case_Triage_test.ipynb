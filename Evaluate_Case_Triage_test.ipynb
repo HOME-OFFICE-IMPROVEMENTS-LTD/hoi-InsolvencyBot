{
 "cells": [
  {
   "cell_type": "code",
   "execution_count": 51,
   "id": "0f9ba17e",
   "metadata": {},
   "outputs": [
    {
     "name": "stdout",
     "output_type": "stream",
     "text": [
      "Dataset: test\n"
     ]
    }
   ],
   "source": [
    "'''\n",
    "Evaluate case triage against gold standard\n",
    "'''\n",
    "\n",
    "import json\n",
    "import os\n",
    "import sys\n",
    "import time\n",
    "import traceback\n",
    "import re\n",
    "import pandas as pd\n",
    "import requests\n",
    "\n",
    "TRAIN_TEST = \"test\"\n",
    "IS_USE_LIVE_BOT = False\n",
    "\n",
    "print(f\"Dataset: {TRAIN_TEST}\")\n",
    "\n",
    "df_gold_standard = pd.read_csv(f\"{TRAIN_TEST}_cases_gold_standard.csv\", encoding=\"utf-8\", sep=\"\\t\")\n",
    "\n",
    "df = pd.read_csv(f\"output_{TRAIN_TEST}_insolvency_bot_with_gpt-4.csv\", encoding=\"utf-8\", sep=\"\\t\")"
   ]
  },
  {
   "cell_type": "code",
   "execution_count": 52,
   "id": "99b58519",
   "metadata": {},
   "outputs": [],
   "source": [
    "if IS_USE_LIVE_BOT:\n",
    "    sys.path.append(\"../insolvency/\")\n",
    "    from insolvency_bot import get_matching_sources, construct_prompt, embeddings_lookup\n",
    "\n",
    "    bot_cases = [\"\"] * len(df)\n",
    "\n",
    "    for idx in range(len(df)):\n",
    "        question = df.question_text.iloc[idx]\n",
    "        matching_sources = get_matching_sources(question)\n",
    "        dialogue_history = construct_prompt(question, matching_sources)\n",
    "        bot_cases[idx] = \"|\".join(matching_sources[\"human_readable_c\"])\n",
    "    df[\"bot_cases\"] = bot_cases"
   ]
  },
  {
   "cell_type": "code",
   "execution_count": 60,
   "id": "76428761",
   "metadata": {},
   "outputs": [],
   "source": [
    "import re\n",
    "re_contains_num = re.compile(r'\\d')\n",
    "def normalise_case_name(c):\n",
    "    c = re.sub('\\s+', ' ', c)\n",
    "    words = c.split(\" \")\n",
    "    for w in words:\n",
    "        if len(re_contains_num.findall(w)) > 0:\n",
    "            continue\n",
    "        if w.lower() not in {\"in\", \"re\", \"h.r.\", \"petitioner\", \"vs\", \"v\", \"company\", \"a\", \"an\"}:\n",
    "            return w.lower()"
   ]
  },
  {
   "cell_type": "code",
   "execution_count": 61,
   "id": "ec794882",
   "metadata": {},
   "outputs": [],
   "source": [
    "question_to_key_cases = dict(df_gold_standard.set_index(\"question_no\")[\"cases\"])"
   ]
  },
  {
   "cell_type": "code",
   "execution_count": 62,
   "id": "648919a8",
   "metadata": {},
   "outputs": [],
   "source": [
    "df = df[df.question_no.isin(question_to_key_cases)]"
   ]
  },
  {
   "cell_type": "code",
   "execution_count": 63,
   "id": "20a25767",
   "metadata": {},
   "outputs": [
    {
     "name": "stdout",
     "output_type": "stream",
     "text": [
      "Ground truth:\t\t ['bny', 'byblos', 'casa', 'cheyne', 'paramount']\n",
      "\tPredicted:\t ['bny', 'bti', 'byblos', 'casa', 'cheyne', 'ewhc', 'wluk']\n",
      "Ground truth:\t\t ['avanti', 'belmont', 'buchler', 'jackson', 'mistral']\n",
      "\tPredicted:\t ['bti', 'johnson', 'lo-line', 'mctear', 'morris', 'official', 'pathania', 'rowntree', 'singer', 'wluk']\n",
      "Ground truth:\t\t ['capital', 'clydesdale', 'discovery', 'halliwells', 'hellas', 'kayley', 'moss']\n",
      "\tPredicted:\t ['belmont', 'bny', 'bti', 'byblos', 'casa', 'cheyne', 'wluk']\n",
      "Ground truth:\t\t ['amicus', 'fitness', 'good', 'houst', 'hurricane', 'prezzo', 'virgin']\n",
      "\tPredicted:\t ['belmont', 'bny', 'bti', 'byblos', 'casa', 'cheyne', 'wluk']\n",
      "Ground truth:\t\t ['discovery', 'fitness', 'newco', 'oceanfill', 'virgin']\n",
      "\tPredicted:\t ['belmont', 'bti', 'oceanfill']\n",
      "Ground truth:\t\t ['bny', 'byblos', 'casa', 'cheyne', 'paramount']\n",
      "\tPredicted:\t ['bny', 'byblos', 'casa', 'cheyne', 'ewhc', 'one', 'rushbrooke']\n",
      "Ground truth:\t\t ['bti', 'lo-line', 'mctear', 'sevenoaks']\n",
      "\tPredicted:\t ['adams', 'belmont', 'bti', 'city', 'dhn', 'fg', 'gencor', 'gilford', 'kaytech', 'macdonald', 'prest', 'salomon', 'thomas']\n",
      "Ground truth:\t\t ['bti', 'lo-line', 'mctear', 'sevenoaks']\n",
      "\tPredicted:\t ['bny', 'byblos', 'casa', 'centralcrest', 'cheyne', 'hlc', 'lehman']\n",
      "Ground truth:\t\t ['bny', 'byblos', 'casa', 'cheyne']\n",
      "\tPredicted:\t ['bny', 'bti', 'byblos', 'casa', 'cheyne', 'pure', 'wluk']\n",
      "Ground truth:\t\t ['bti', 'mctear', 'morris']\n",
      "\tPredicted:\t ['belmont', 'bny', 'bti', 'byblos', 'casa', 'cheyne', 'marches']\n",
      "Ground truth:\t\t ['bny', 'bti', 'byblos', 'casa', 'cheyne', 'mctear', 'morris']\n",
      "\tPredicted:\t ['barclays', 'bny', 'bti', 'byblos', 'casa', 'cheyne', 'entertainment']\n",
      "Ground truth:\t\t ['daisytek-isa', 'eurofood', 'galapagos', 'hellas']\n",
      "\tPredicted:\t ['bristol', 'mctear', 'prest']\n"
     ]
    }
   ],
   "source": [
    "total_cases_gt = [0] * len(df)\n",
    "total_cases_retrieved = [0] * len(df)\n",
    "total_cases_correct = [0] * len(df)\n",
    "\n",
    "for idx in range(len(df)):\n",
    "    q_no = df.question_no.iloc[idx]\n",
    "    \n",
    "    y_gt = question_to_key_cases[q_no].split(\"|\")\n",
    "    \n",
    "    \n",
    "    y_pred = df.bot_cases.iloc[idx].split(\"|\")\n",
    "    \n",
    "    y_pred_normalised = set([normalise_case_name(c) for c in y_pred])\n",
    "    y_gt_normalised = set([normalise_case_name(c) for c in y_gt])\n",
    "    \n",
    "    print (\"Ground truth:\\t\\t\", sorted(y_gt_normalised))\n",
    "    print (\"\\tPredicted:\\t\", sorted(y_pred_normalised))\n",
    "    \n",
    "    total_cases_gt[idx] = len(y_gt_normalised)\n",
    "    total_cases_correct[idx] = len(y_pred_normalised.intersection(y_gt_normalised))\n",
    "    total_cases_retrieved[idx] = len(y_pred_normalised)"
   ]
  },
  {
   "cell_type": "code",
   "execution_count": 64,
   "id": "375cb1a5",
   "metadata": {},
   "outputs": [],
   "source": [
    "df[\"cases_ground_truth\"] = total_cases_gt\n",
    "df[\"cases_retrieved\"] = total_cases_retrieved\n",
    "df[\"cases_correct\"] = total_cases_correct"
   ]
  },
  {
   "cell_type": "code",
   "execution_count": 65,
   "id": "d5492734",
   "metadata": {},
   "outputs": [
    {
     "data": {
      "text/html": [
       "<div>\n",
       "<style scoped>\n",
       "    .dataframe tbody tr th:only-of-type {\n",
       "        vertical-align: middle;\n",
       "    }\n",
       "\n",
       "    .dataframe tbody tr th {\n",
       "        vertical-align: top;\n",
       "    }\n",
       "\n",
       "    .dataframe thead th {\n",
       "        text-align: right;\n",
       "    }\n",
       "</style>\n",
       "<table border=\"1\" class=\"dataframe\">\n",
       "  <thead>\n",
       "    <tr style=\"text-align: right;\">\n",
       "      <th></th>\n",
       "      <th>question_no</th>\n",
       "      <th>cases_ground_truth</th>\n",
       "      <th>cases_retrieved</th>\n",
       "      <th>cases_correct</th>\n",
       "    </tr>\n",
       "  </thead>\n",
       "  <tbody>\n",
       "    <tr>\n",
       "      <th>0</th>\n",
       "      <td>Q1</td>\n",
       "      <td>5</td>\n",
       "      <td>7</td>\n",
       "      <td>4</td>\n",
       "    </tr>\n",
       "    <tr>\n",
       "      <th>1</th>\n",
       "      <td>Q2</td>\n",
       "      <td>5</td>\n",
       "      <td>10</td>\n",
       "      <td>0</td>\n",
       "    </tr>\n",
       "    <tr>\n",
       "      <th>2</th>\n",
       "      <td>Q3</td>\n",
       "      <td>7</td>\n",
       "      <td>7</td>\n",
       "      <td>0</td>\n",
       "    </tr>\n",
       "    <tr>\n",
       "      <th>3</th>\n",
       "      <td>Q4</td>\n",
       "      <td>7</td>\n",
       "      <td>7</td>\n",
       "      <td>0</td>\n",
       "    </tr>\n",
       "    <tr>\n",
       "      <th>4</th>\n",
       "      <td>Q5</td>\n",
       "      <td>5</td>\n",
       "      <td>3</td>\n",
       "      <td>1</td>\n",
       "    </tr>\n",
       "    <tr>\n",
       "      <th>5</th>\n",
       "      <td>Q6</td>\n",
       "      <td>5</td>\n",
       "      <td>7</td>\n",
       "      <td>4</td>\n",
       "    </tr>\n",
       "    <tr>\n",
       "      <th>6</th>\n",
       "      <td>Q7</td>\n",
       "      <td>4</td>\n",
       "      <td>13</td>\n",
       "      <td>1</td>\n",
       "    </tr>\n",
       "    <tr>\n",
       "      <th>7</th>\n",
       "      <td>Q8</td>\n",
       "      <td>4</td>\n",
       "      <td>7</td>\n",
       "      <td>0</td>\n",
       "    </tr>\n",
       "    <tr>\n",
       "      <th>8</th>\n",
       "      <td>Q9</td>\n",
       "      <td>4</td>\n",
       "      <td>7</td>\n",
       "      <td>4</td>\n",
       "    </tr>\n",
       "    <tr>\n",
       "      <th>9</th>\n",
       "      <td>Q10</td>\n",
       "      <td>3</td>\n",
       "      <td>7</td>\n",
       "      <td>1</td>\n",
       "    </tr>\n",
       "    <tr>\n",
       "      <th>10</th>\n",
       "      <td>Q11</td>\n",
       "      <td>7</td>\n",
       "      <td>7</td>\n",
       "      <td>5</td>\n",
       "    </tr>\n",
       "    <tr>\n",
       "      <th>11</th>\n",
       "      <td>Q12</td>\n",
       "      <td>4</td>\n",
       "      <td>3</td>\n",
       "      <td>0</td>\n",
       "    </tr>\n",
       "  </tbody>\n",
       "</table>\n",
       "</div>"
      ],
      "text/plain": [
       "   question_no  cases_ground_truth  cases_retrieved  cases_correct\n",
       "0           Q1                   5                7              4\n",
       "1           Q2                   5               10              0\n",
       "2           Q3                   7                7              0\n",
       "3           Q4                   7                7              0\n",
       "4           Q5                   5                3              1\n",
       "5           Q6                   5                7              4\n",
       "6           Q7                   4               13              1\n",
       "7           Q8                   4                7              0\n",
       "8           Q9                   4                7              4\n",
       "9          Q10                   3                7              1\n",
       "10         Q11                   7                7              5\n",
       "11         Q12                   4                3              0"
      ]
     },
     "execution_count": 65,
     "metadata": {},
     "output_type": "execute_result"
    }
   ],
   "source": [
    "df[[\"question_no\",\"cases_ground_truth\", \"cases_retrieved\", \"cases_correct\" ]]"
   ]
  },
  {
   "cell_type": "code",
   "execution_count": 66,
   "id": "0929aed8",
   "metadata": {},
   "outputs": [
    {
     "name": "stdout",
     "output_type": "stream",
     "text": [
      "Precision: 24%\n",
      "Recall: 33%\n"
     ]
    }
   ],
   "source": [
    "print (f\"Precision: {df.cases_correct.sum() / df.cases_retrieved.sum():.0%}\")\n",
    "print (f\"Recall: {df.cases_correct.sum() / df.cases_ground_truth.sum():.0%}\")"
   ]
  },
  {
   "cell_type": "code",
   "execution_count": null,
   "id": "efcf4285",
   "metadata": {},
   "outputs": [],
   "source": []
  }
 ],
 "metadata": {
  "kernelspec": {
   "display_name": "Python 3 (ipykernel)",
   "language": "python",
   "name": "python3"
  },
  "language_info": {
   "codemirror_mode": {
    "name": "ipython",
    "version": 3
   },
   "file_extension": ".py",
   "mimetype": "text/x-python",
   "name": "python",
   "nbconvert_exporter": "python",
   "pygments_lexer": "ipython3",
   "version": "3.11.3"
  }
 },
 "nbformat": 4,
 "nbformat_minor": 5
}
