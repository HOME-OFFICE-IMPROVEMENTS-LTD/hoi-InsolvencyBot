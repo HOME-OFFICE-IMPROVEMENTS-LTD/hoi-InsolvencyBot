{
 "cells": [
  {
   "cell_type": "code",
   "execution_count": 12,
   "id": "5ed8b527",
   "metadata": {
    "scrolled": true
   },
   "outputs": [],
   "source": [
    "import pandas as pd\n",
    "\n",
    "MODELS = [\"gpt-3.5-turbo\", \"gpt-4\", \"insolvency_bot_with_gpt-3.5-turbo\", \"insolvency_bot_with_gpt-4\"]\n",
    "DATASETS = [\"train\", \"test\"]\n",
    "\n",
    "for DATASET in DATASETS:\n",
    "    df_all_data = pd.DataFrame()\n",
    "    for MODEL in MODELS:    \n",
    "        df = pd.read_csv(f\"scores_{DATASET}_{MODEL}.csv\", encoding=\"utf-8\", sep=\"\\t\")\n",
    "        # Drop the TOTAL row\n",
    "#         df = df[df.question_no != \"TOTAL\"]\n",
    "        \n",
    "        if MODEL == \"gpt-3.5-turbo\":\n",
    "            df_all_data[\"question_no\"] = df['question_no']\n",
    "            df_all_data[\"max_points_available\"] = df['max_points_available']\n",
    "        \n",
    "        \n",
    "        \n",
    "        df_all_data[MODEL] = df['bot_score']\n",
    "        \n",
    "        \n",
    "    df_all_data = df_all_data[df_all_data.max_points_available > 0]    \n",
    "        \n",
    "    \n",
    "    df_all_data.to_csv(f\"score_{DATASET}_table_by_questions.csv\", encoding=\"utf-8\", index=False, sep=\"\\t\")"
   ]
  },
  {
   "cell_type": "code",
   "execution_count": null,
   "id": "78aefba4",
   "metadata": {},
   "outputs": [],
   "source": []
  }
 ],
 "metadata": {
  "kernelspec": {
   "display_name": "Python 3 (ipykernel)",
   "language": "python",
   "name": "python3"
  },
  "language_info": {
   "codemirror_mode": {
    "name": "ipython",
    "version": 3
   },
   "file_extension": ".py",
   "mimetype": "text/x-python",
   "name": "python",
   "nbconvert_exporter": "python",
   "pygments_lexer": "ipython3",
   "version": "3.11.3"
  }
 },
 "nbformat": 4,
 "nbformat_minor": 5
}
