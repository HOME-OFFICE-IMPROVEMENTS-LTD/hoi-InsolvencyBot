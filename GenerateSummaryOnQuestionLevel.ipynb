{
 "cells": [
  {
   "cell_type": "code",
   "execution_count": 14,
   "id": "5ed8b527",
   "metadata": {
    "scrolled": true
   },
   "outputs": [],
   "source": [
    "import pandas as pd\n",
    "\n",
    "MODELS = ['gpt-3.5-turbo',\n",
    " 'insolvency_bot_with_gpt-3.5-turbo',\n",
    " 'gpt-4',\n",
    " 'insolvency_bot_with_gpt-4',\n",
    " 'gpt-4o',\n",
    " 'insolvency_bot_with_gpt-4o',\n",
    " 'gemini-2.0-pro-exp-02-05',\n",
    " 'insolvency_bot_with_gemini-2.0-pro-exp-02-05',\n",
    " 'claude-3-5-sonnet-20241022',\n",
    " 'insolvency_bot_with_claude-3-5-sonnet-20241022',\n",
    "'llama3.1-70b',\n",
    "'insolvency_bot_with_llama3.1-70b',\n",
    "'DeepSeek-R1',\n",
    "'insolvency_bot_with_DeepSeek-R1',\n",
    "'Mistral-Large-2411',\n",
    "'insolvency_bot_with_Mistral-Large-2411',\n",
    "         ]\n",
    "DATASETS = [\"train\", \"test\"]\n",
    "\n",
    "for DATASET in DATASETS:\n",
    "    if DATASET == \"train\":\n",
    "        continue\n",
    "    df_all_data = pd.DataFrame()\n",
    "    for MODEL in MODELS:    \n",
    "        if MODEL == 'insolvency_bot_with_Mistral-Large-2411' and DATASET == \"train\":\n",
    "            continue\n",
    "        \n",
    "        df = pd.read_csv(f\"scores_{DATASET}_{MODEL}.csv\", encoding=\"utf-8\", sep=\"\\t\")\n",
    "        # Drop the TOTAL row\n",
    "#         df = df[df.question_no != \"TOTAL\"]\n",
    "        \n",
    "        if MODEL == \"gpt-3.5-turbo\":\n",
    "            df_all_data[\"question_no\"] = df['question_no']\n",
    "            df_all_data[\"max_points_available\"] = df['max_points_available']\n",
    "        \n",
    "        \n",
    "        \n",
    "        df_all_data[MODEL] = df['bot_score']\n",
    "        \n",
    "        \n",
    "    df_all_data = df_all_data[df_all_data.max_points_available > 0]    \n",
    "        \n",
    "    \n",
    "    df_all_data.to_csv(f\"score_{DATASET}_table_by_questions.csv\", encoding=\"utf-8\", index=False, sep=\"\\t\")"
   ]
  },
  {
   "cell_type": "code",
   "execution_count": null,
   "id": "78aefba4",
   "metadata": {},
   "outputs": [],
   "source": []
  },
  {
   "cell_type": "code",
   "execution_count": null,
   "id": "b8645def-1459-4173-9fec-a3a1211758ae",
   "metadata": {},
   "outputs": [],
   "source": []
  },
  {
   "cell_type": "code",
   "execution_count": null,
   "id": "ce5bb049-52ba-4496-804c-6fee9592fd7c",
   "metadata": {},
   "outputs": [],
   "source": []
  },
  {
   "cell_type": "code",
   "execution_count": null,
   "id": "e4d6309a-d7cf-4a98-85ae-42cac6ff5378",
   "metadata": {},
   "outputs": [],
   "source": []
  },
  {
   "cell_type": "code",
   "execution_count": null,
   "id": "4a5a91bc-9ccf-4839-8127-93975c3e29e5",
   "metadata": {},
   "outputs": [],
   "source": []
  }
 ],
 "metadata": {
  "kernelspec": {
   "display_name": "Python 3 (ipykernel)",
   "language": "python",
   "name": "python3"
  },
  "language_info": {
   "codemirror_mode": {
    "name": "ipython",
    "version": 3
   },
   "file_extension": ".py",
   "mimetype": "text/x-python",
   "name": "python",
   "nbconvert_exporter": "python",
   "pygments_lexer": "ipython3",
   "version": "3.10.12"
  }
 },
 "nbformat": 4,
 "nbformat_minor": 5
}
